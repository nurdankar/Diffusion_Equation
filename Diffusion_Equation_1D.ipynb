{
  "nbformat": 4,
  "nbformat_minor": 0,
  "metadata": {
    "colab": {
      "provenance": [],
      "authorship_tag": "ABX9TyOen4vIR43T931pffMQjraO",
      "include_colab_link": true
    },
    "kernelspec": {
      "name": "python3",
      "display_name": "Python 3"
    },
    "language_info": {
      "name": "python"
    }
  },
  "cells": [
    {
      "cell_type": "markdown",
      "metadata": {
        "id": "view-in-github",
        "colab_type": "text"
      },
      "source": [
        "<a href=\"https://colab.research.google.com/github/nurdankar/Diffusion_Equation/blob/main/Diffusion_Equation_1D.ipynb\" target=\"_parent\"><img src=\"https://colab.research.google.com/assets/colab-badge.svg\" alt=\"Open In Colab\"/></a>"
      ]
    },
    {
      "cell_type": "markdown",
      "source": [
        "# Solving the Diffusion Equation in Python\n",
        "\n",
        "We will solve the one-dimensional diffusion equation in two different coding forms. In the first form, we will be using very basic terms to grasp terminology. We will then take this one step further and use a Python function to describe the problem. This allows us to code more complex mathematical models in a useful way.\n",
        "\n",
        "Now, we import required libraries. We will use NumPy and Matplotlib as in many mathematical process in Python.\n",
        "\n",
        "> NumPy is a Python library that provides a multidimensional array object, various derived objects (such as masked arrays and matrices), and an assortment of routines for fast operations on arrays, including mathematical, logical, shape manipulation, sorting, selecting, I/O, discrete Fourier transforms, basic linear algebra, basic statistical operations, random simulation and much more. For more detail, click [NumPy](https://numpy.org/doc/stable/index.html).\n",
        "\n",
        "\n",
        "> Matplotlib is a comprehensive library for creating static, animated, and interactive visualizations in Python. For more detail, click [Matplotlib](https://matplotlib.org/).\n"
      ],
      "metadata": {
        "id": "lGhx0F-WIXAz"
      }
    },
    {
      "cell_type": "markdown",
      "source": [],
      "metadata": {
        "id": "NjkRXLHgNSX2"
      }
    },
    {
      "cell_type": "code",
      "source": [
        "\"Import libraries\"\n",
        "import numpy as np\n",
        "import matplotlib.pyplot as plt"
      ],
      "metadata": {
        "id": "YNYKGak42Rvx"
      },
      "execution_count": 1,
      "outputs": []
    },
    {
      "cell_type": "markdown",
      "source": [
        "## Diffusion equation in 1D\n",
        "Let us take the one-dimensional diffusion equation $$\\dfrac{\\partial u}{\\partial t}=D \\dfrac{\\partial^2 u}{\\partial x^2},$$\n",
        "with initial condition\n",
        "$$u(x,0)=0,$$ \n",
        "and boundary conditions\n",
        "$$u(0,t)=40,  u(L,t)=15.$$\n",
        "\n",
        "To approximate the solution of this problem we will use forward-Euler method in this exercise. Forward-Euler method will be used for the first-order time derivative, and the central finite difference scheme will be used for the second order spatial derivative. It is known that the central difference scheme is a combination of the forward-difference and backward-difference of the first derivative. Thus, the discretized version of the one-dimensional diffusion equation can be written as\n",
        "\n",
        "$$\n",
        "\\frac{u_i^{n+1}-u_i^{n}}{\\Delta t} = D \\bigg[\\frac{-(u_{i}-u_{i-1})}{\\Delta x^2} + \\frac{(u_{i+1}-u_{i})}{\\Delta x^2}\\bigg] \\quad  ...(1)\n",
        "$$\n",
        "\n",
        "when\n",
        "\n",
        "$$\n",
        "\\frac{\\partial u}{\\partial t} = \\frac{u_i^{n+1}-u_i^{n}}{\\Delta t}\n",
        "$$\n",
        "\n",
        "and\n",
        "\n",
        "$$\n",
        "\\frac{\\partial^2 u}{\\partial x^2} = \\bigg[\\frac{-(u_{i}-u_{i-1})}{\\Delta x^2} + \\frac{(u_{i+1}-u_{i})}{\\Delta x^2}\\bigg].\n",
        "$$\n",
        "\n",
        "From the equation (1), after some manipulation, we can write\n",
        "\n",
        "$$u_i^{n+1} = u_i^n + \\bigg[\\frac{u_i^{n+1}-u_i^{n}}{\\Delta t}\\bigg]_t \\Delta t. \\quad ... (2)$$ \n",
        "\n",
        "Hence, we will code the equation (1) via a nested for loop, then call the equation (2) to obtain approximate solution."
      ],
      "metadata": {
        "id": "hTFPDEWg2mNs"
      }
    },
    {
      "cell_type": "code",
      "source": [
        "\"Define the required variables\"\n",
        "L = 0.3                            #line 1: our one-dimensional spatial domain length(0.3m)\n",
        "N = 20                             #line 2: the nodes; the grid points \n",
        "u0 = 0                             #line 3: the initial condition\n",
        "u_l = 40                           #line 4: the left-side boundary condition\n",
        "u_r = 15                           #line 5: the right-side boundary condition\n",
        "dx = L/N                           #line 6: the length of each spatial subintervals \n",
        "D = 0.0001                         #line 7: the diffusion coefficient\n",
        "u_f = 60                           #line 8: a stop point - we will use it to define \"t\" \n",
        "dt = 0.1                           #line 9: the amount of time each timestep covers - delta t\n",
        "\n",
        "x = np.linspace(dx/2, L-dx/2, N)   #line 10: choose the start and stop points of the x-vector to plot - \n",
        "                                             #(middle point of first node (dx/2), middle point of last node (L-dx/2))\n",
        "                                             #The code returns evenly spaced numbers over a specified interval (L).\n",
        "\n",
        "u = np.ones(N) * u0                #line 11: starting diffusivity that contains the initial condition - \n",
        "                                             #a numpy array of N elements with all elements equal to 1 \n",
        "\n",
        "dudt = np.empty(N)                 #line 12: initialise the solution - we will overwrite it\n",
        "                                             #The code returns a new array of given shape and type, without initializing entries.\n",
        "\n",
        "t = np.arange(0, u_f, dt)          #line 13: choose the start and stop points of the time vector to plot -\n",
        "                                             #The code returns evenly spaced values within a given interval(0, u_f) with a defined step(dt=0.1).\n",
        "\n",
        "un = np.ones(N)                    #line 14: a placeholder array\n",
        "\n",
        "\"Define the forward-Euler method for the diffusion equation\"\n",
        "for j in range(1, len(t)):                                                       #line 15: iterate through time                               \n",
        "  un = u.copy()                                                                  #line 16: copy the existing values of u into un\n",
        "  for i in range(1, N-1):                                                        #line 17: iterate through spatial nodes                                                    \n",
        "    dudt[i] = D * (- (un[i] - un[i-1]) / dx ** 2 + (un[i+1] - un[i]) / dx ** 2)  #line 18: the forward-Euler method is generic for the interior nodes - see the equation (1)    \n",
        "  dudt[0] = D * (- (un[0] - u_l) / dx ** 2 + (un[1] - u[0]) / dx**2)             #line 19: the node 0 has the left-side BC (u_l) on its left side; interacts with u_l - \n",
        "                                                                                           #no need to be in the loop becuase it is unique\n",
        "  dudt[N-1] = D * (- (un[N-1] - un[N-2]) / dx ** 2 + (u_r - un[N-1]) / dx ** 2)  #line 20: the last node has the right-side BC (u_r) on its right side; interacts with u_r\n",
        "  u = un + dudt * dt                                                             #line 21: it gives approximation the solution - see the equation (2)\n",
        "\n",
        "\n",
        "\"Plot the result\"\n",
        "plt.figure(figsize=(13, 7))         #line 22: required code to start plotting\n",
        "plt.plot(x, u)                      #line 23: the main code to plot x and u\n",
        "plt.axis([0, L, 0, 50])             #line 24: set axis properties(xmin, xmax, ymin, ymax)         \n",
        "plt.xlabel('Distance (m)')          #line 25: name the x-axis\n",
        "plt.ylabel('Diffusion')             #line 26: name the y-axis\n",
        "plt.title('L = 0.3')                #line 27: name the graph\n",
        "plt.grid()                          #line 28: plot with a grid - use \"plt.show()\" to plot without a grid \n"
      ],
      "metadata": {
        "colab": {
          "base_uri": "https://localhost:8080/",
          "height": 458
        },
        "id": "TKQ-wWlc2hMq",
        "outputId": "5d4ed6c8-58c9-4384-ea6b-0e4d307e0d1b"
      },
      "execution_count": 2,
      "outputs": [
        {
          "output_type": "display_data",
          "data": {
            "text/plain": [
              "<Figure size 936x504 with 1 Axes>"
            ],
            "image/png": "[encoded data removed]"
          },
          "metadata": {
            "needs_background": "light"
          }
        }
      ]
    },
    {
      "cell_type": "markdown",
      "source": [
        "\n",
        "To make x, t and u understandable, execute them on their own as follows."
      ],
      "metadata": {
        "id": "3liG3B33jK12"
      }
    },
    {
      "cell_type": "code",
      "source": [
        "x"
      ],
      "metadata": {
        "colab": {
          "base_uri": "https://localhost:8080/"
        },
        "id": "NCC2WrFnDStQ",
        "outputId": "9843f4a0-dfee-4175-e706-6d9cfe459de8"
      },
      "execution_count": 3,
      "outputs": [
        {
          "output_type": "execute_result",
          "data": {
            "text/plain": [
              "array([0.0075, 0.0225, 0.0375, 0.0525, 0.0675, 0.0825, 0.0975, 0.1125,\n",
              "       0.1275, 0.1425, 0.1575, 0.1725, 0.1875, 0.2025, 0.2175, 0.2325,\n",
              "       0.2475, 0.2625, 0.2775, 0.2925])"
            ]
          },
          "metadata": {},
          "execution_count": 3
        }
      ]
    },
    {
      "cell_type": "code",
      "source": [
        "t"
      ],
      "metadata": {
        "id": "tH3hizL5DU6l",
        "colab": {
          "base_uri": "https://localhost:8080/"
        },
        "outputId": "287265a3-cf63-4284-ab50-38c0d9c6e600"
      },
      "execution_count": 4,
      "outputs": [
        {
          "output_type": "execute_result",
          "data": {
            "text/plain": [
              "array([ 0. ,  0.1,  0.2,  0.3,  0.4,  0.5,  0.6,  0.7,  0.8,  0.9,  1. ,\n",
              "        1.1,  1.2,  1.3,  1.4,  1.5,  1.6,  1.7,  1.8,  1.9,  2. ,  2.1,\n",
              "        2.2,  2.3,  2.4,  2.5,  2.6,  2.7,  2.8,  2.9,  3. ,  3.1,  3.2,\n",
              "        3.3,  3.4,  3.5,  3.6,  3.7,  3.8,  3.9,  4. ,  4.1,  4.2,  4.3,\n",
              "        4.4,  4.5,  4.6,  4.7,  4.8,  4.9,  5. ,  5.1,  5.2,  5.3,  5.4,\n",
              "        5.5,  5.6,  5.7,  5.8,  5.9,  6. ,  6.1,  6.2,  6.3,  6.4,  6.5,\n",
              "        6.6,  6.7,  6.8,  6.9,  7. ,  7.1,  7.2,  7.3,  7.4,  7.5,  7.6,\n",
              "        7.7,  7.8,  7.9,  8. ,  8.1,  8.2,  8.3,  8.4,  8.5,  8.6,  8.7,\n",
              "        8.8,  8.9,  9. ,  9.1,  9.2,  9.3,  9.4,  9.5,  9.6,  9.7,  9.8,\n",
              "        9.9, 10. , 10.1, 10.2, 10.3, 10.4, 10.5, 10.6, 10.7, 10.8, 10.9,\n",
              "       11. , 11.1, 11.2, 11.3, 11.4, 11.5, 11.6, 11.7, 11.8, 11.9, 12. ,\n",
              "       12.1, 12.2, 12.3, 12.4, 12.5, 12.6, 12.7, 12.8, 12.9, 13. , 13.1,\n",
              "       13.2, 13.3, 13.4, 13.5, 13.6, 13.7, 13.8, 13.9, 14. , 14.1, 14.2,\n",
              "       14.3, 14.4, 14.5, 14.6, 14.7, 14.8, 14.9, 15. , 15.1, 15.2, 15.3,\n",
              "       15.4, 15.5, 15.6, 15.7, 15.8, 15.9, 16. , 16.1, 16.2, 16.3, 16.4,\n",
              "       16.5, 16.6, 16.7, 16.8, 16.9, 17. , 17.1, 17.2, 17.3, 17.4, 17.5,\n",
              "       17.6, 17.7, 17.8, 17.9, 18. , 18.1, 18.2, 18.3, 18.4, 18.5, 18.6,\n",
              "       18.7, 18.8, 18.9, 19. , 19.1, 19.2, 19.3, 19.4, 19.5, 19.6, 19.7,\n",
              "       19.8, 19.9, 20. , 20.1, 20.2, 20.3, 20.4, 20.5, 20.6, 20.7, 20.8,\n",
              "       20.9, 21. , 21.1, 21.2, 21.3, 21.4, 21.5, 21.6, 21.7, 21.8, 21.9,\n",
              "       22. , 22.1, 22.2, 22.3, 22.4, 22.5, 22.6, 22.7, 22.8, 22.9, 23. ,\n",
              "       23.1, 23.2, 23.3, 23.4, 23.5, 23.6, 23.7, 23.8, 23.9, 24. , 24.1,\n",
              "       24.2, 24.3, 24.4, 24.5, 24.6, 24.7, 24.8, 24.9, 25. , 25.1, 25.2,\n",
              "       25.3, 25.4, 25.5, 25.6, 25.7, 25.8, 25.9, 26. , 26.1, 26.2, 26.3,\n",
              "       26.4, 26.5, 26.6, 26.7, 26.8, 26.9, 27. , 27.1, 27.2, 27.3, 27.4,\n",
              "       27.5, 27.6, 27.7, 27.8, 27.9, 28. , 28.1, 28.2, 28.3, 28.4, 28.5,\n",
              "       28.6, 28.7, 28.8, 28.9, 29. , 29.1, 29.2, 29.3, 29.4, 29.5, 29.6,\n",
              "       29.7, 29.8, 29.9, 30. , 30.1, 30.2, 30.3, 30.4, 30.5, 30.6, 30.7,\n",
              "       30.8, 30.9, 31. , 31.1, 31.2, 31.3, 31.4, 31.5, 31.6, 31.7, 31.8,\n",
              "       31.9, 32. , 32.1, 32.2, 32.3, 32.4, 32.5, 32.6, 32.7, 32.8, 32.9,\n",
              "       33. , 33.1, 33.2, 33.3, 33.4, 33.5, 33.6, 33.7, 33.8, 33.9, 34. ,\n",
              "       34.1, 34.2, 34.3, 34.4, 34.5, 34.6, 34.7, 34.8, 34.9, 35. , 35.1,\n",
              "       35.2, 35.3, 35.4, 35.5, 35.6, 35.7, 35.8, 35.9, 36. , 36.1, 36.2,\n",
              "       36.3, 36.4, 36.5, 36.6, 36.7, 36.8, 36.9, 37. , 37.1, 37.2, 37.3,\n",
              "       37.4, 37.5, 37.6, 37.7, 37.8, 37.9, 38. , 38.1, 38.2, 38.3, 38.4,\n",
              "       38.5, 38.6, 38.7, 38.8, 38.9, 39. , 39.1, 39.2, 39.3, 39.4, 39.5,\n",
              "       39.6, 39.7, 39.8, 39.9, 40. , 40.1, 40.2, 40.3, 40.4, 40.5, 40.6,\n",
              "       40.7, 40.8, 40.9, 41. , 41.1, 41.2, 41.3, 41.4, 41.5, 41.6, 41.7,\n",
              "       41.8, 41.9, 42. , 42.1, 42.2, 42.3, 42.4, 42.5, 42.6, 42.7, 42.8,\n",
              "       42.9, 43. , 43.1, 43.2, 43.3, 43.4, 43.5, 43.6, 43.7, 43.8, 43.9,\n",
              "       44. , 44.1, 44.2, 44.3, 44.4, 44.5, 44.6, 44.7, 44.8, 44.9, 45. ,\n",
              "       45.1, 45.2, 45.3, 45.4, 45.5, 45.6, 45.7, 45.8, 45.9, 46. , 46.1,\n",
              "       46.2, 46.3, 46.4, 46.5, 46.6, 46.7, 46.8, 46.9, 47. , 47.1, 47.2,\n",
              "       47.3, 47.4, 47.5, 47.6, 47.7, 47.8, 47.9, 48. , 48.1, 48.2, 48.3,\n",
              "       48.4, 48.5, 48.6, 48.7, 48.8, 48.9, 49. , 49.1, 49.2, 49.3, 49.4,\n",
              "       49.5, 49.6, 49.7, 49.8, 49.9, 50. , 50.1, 50.2, 50.3, 50.4, 50.5,\n",
              "       50.6, 50.7, 50.8, 50.9, 51. , 51.1, 51.2, 51.3, 51.4, 51.5, 51.6,\n",
              "       51.7, 51.8, 51.9, 52. , 52.1, 52.2, 52.3, 52.4, 52.5, 52.6, 52.7,\n",
              "       52.8, 52.9, 53. , 53.1, 53.2, 53.3, 53.4, 53.5, 53.6, 53.7, 53.8,\n",
              "       53.9, 54. , 54.1, 54.2, 54.3, 54.4, 54.5, 54.6, 54.7, 54.8, 54.9,\n",
              "       55. , 55.1, 55.2, 55.3, 55.4, 55.5, 55.6, 55.7, 55.8, 55.9, 56. ,\n",
              "       56.1, 56.2, 56.3, 56.4, 56.5, 56.6, 56.7, 56.8, 56.9, 57. , 57.1,\n",
              "       57.2, 57.3, 57.4, 57.5, 57.6, 57.7, 57.8, 57.9, 58. , 58.1, 58.2,\n",
              "       58.3, 58.4, 58.5, 58.6, 58.7, 58.8, 58.9, 59. , 59.1, 59.2, 59.3,\n",
              "       59.4, 59.5, 59.6, 59.7, 59.8, 59.9])"
            ]
          },
          "metadata": {},
          "execution_count": 4
        }
      ]
    },
    {
      "cell_type": "code",
      "source": [
        "u"
      ],
      "metadata": {
        "colab": {
          "base_uri": "https://localhost:8080/"
        },
        "id": "pKHwzNkpi0YP",
        "outputId": "aadcd877-29f7-4d15-c46b-27c72f0e03aa"
      },
      "execution_count": 5,
      "outputs": [
        {
          "output_type": "execute_result",
          "data": {
            "text/plain": [
              "array([35.69376597, 31.47605406, 27.43123207, 23.63574622, 20.15507218,\n",
              "       17.04161437, 14.3336537 , 12.05530903, 10.21735851,  8.81868239,\n",
              "        7.84804975,  7.28597906,  7.10645092,  7.27832723,  7.76641736,\n",
              "        8.5322126 ,  9.53437021, 10.72906014, 12.07028822, 13.51028422])"
            ]
          },
          "metadata": {},
          "execution_count": 5
        }
      ]
    },
    {
      "cell_type": "markdown",
      "source": [
        "##Implementation with Python functions\n",
        "We will now code the same problem in a more useful manner. Thus, the diffusion problem can be easily extended by adding more complex features to the code structure below. Let us see if we can get the same graph as above."
      ],
      "metadata": {
        "id": "FCTKZmIOmTNX"
      }
    },
    {
      "cell_type": "code",
      "source": [
        "\"Class to solve 1D Diffusion equation\"\n",
        "\n",
        "class Diffusion():  \n",
        "  \n",
        "  def __init__(self, D=0.0001, N=20, dt=0.1, u_f=60, L=0.3, u_l=40, u_r=15, dx=0.1/20):  \n",
        "    self.D = D                                                                                  \n",
        "    self.N = N                         #__init__ function is called the objects(D, N, dt,...) is created from the class.                                                \n",
        "    self.dt = dt                       #The \"self\" is used to access variables that belongs to the class.\n",
        "    self.u_f = u_f                     #It has to be the first parameter of any function in the class.\n",
        "    self.L = L            \n",
        "    self.u_l = u_l         \n",
        "    self.u_r = u_r\n",
        "    self.t = np.arange(0, 60, 0.1)\n",
        "    self.dx = self.L/self.N\n",
        "    self.x = np.linspace(self.dx/2, self.L-self.dx/2, self.N)\n",
        "    \n",
        "\n",
        "\n",
        "  def initialise(self):                #set up the initial condition \n",
        "    self.u0 = 0 \n",
        "    self.u = np.ones(self.N)*self.u0 \n",
        "    self.un = np.ones(self.N)\n",
        "    self.dudt = np.empty(self.N)\n",
        "    \n",
        "\n",
        "\n",
        "  def solve(self, D, t, u0, N, L):     #solve the diffusion problem using forward-Euler method\n",
        "    for j in range(1, len(self.t)):\n",
        "      self.un = self.u.copy()\n",
        "      for i in range(1, self.N-1):                                                                          \n",
        "        self.dudt[i] = D * (- (self.un[i] - self.un[i-1]) / self.dx ** 2 + (self.un[i+1] - self.un[i]) / self.dx ** 2)        \n",
        "      self.dudt[0] = D * (- (self.un[0] - self.u_l) / self.dx ** 2 + (self.un[1] - self.un[0]) / self.dx ** 2)               \n",
        "      self.dudt[N-1] = D * (- (self.un[N-1] - self.un[N-2]) / self.dx ** 2 + (self.u_r - self.un[N-1]) / self.dx ** 2)\n",
        "      self.u = self.un + self.dudt * self.dt\n",
        "    return self.u      \n",
        "\n",
        "  def plot(self):                      #plot the result \n",
        "    plt.figure(figsize=(13,7))\n",
        "    plt.plot(self.x, self.u, color = 'crimson', linewidth = '5')   #add color option and make the graph more visible\n",
        "    plt.axis([0, self.L, 0, 50])              \n",
        "    plt.xlabel('Distance (m)')\n",
        "    plt.ylabel('Diffusion')\n",
        "    plt.title('L = 0.3')\n",
        "    plt.show()\n",
        "         "
      ],
      "metadata": {
        "id": "SIjncKQz28Fq"
      },
      "execution_count": 6,
      "outputs": []
    },
    {
      "cell_type": "code",
      "source": [
        "\"Getting outputs \"\n",
        "dSolver = Diffusion() \n",
        "D, u0, N, L = 0.0001, 0, 20, 0.3\n",
        "t = np.arange(0, 60, 0.1)\n",
        "\n",
        "dSolver.initialise()                  #call the defined function in the previous cell\n",
        "dSolver.solve(D, t, u0, N, L)         #             \"\n",
        "dSolver.plot() "
      ],
      "metadata": {
        "colab": {
          "base_uri": "https://localhost:8080/",
          "height": 458
        },
        "id": "T2vj38zt21j3",
        "outputId": "db1fb1c5-951a-4963-91a5-5f3e6c647e19"
      },
      "execution_count": 7,
      "outputs": [
        {
          "output_type": "display_data",
          "data": {
            "text/plain": [
              "<Figure size 936x504 with 1 Axes>"
            ],
            "image/png": "[encoded data removed]"
          },
          "metadata": {
            "needs_background": "light"
          }
        }
      ]
    },
    {
      "cell_type": "code",
      "source": [],
      "metadata": {
        "id": "6mdtHXtn0vAq"
      },
      "execution_count": null,
      "outputs": []
    }
  ]
}